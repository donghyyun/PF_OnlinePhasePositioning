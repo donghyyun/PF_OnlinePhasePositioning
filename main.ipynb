{
 "cells": [
  {
   "cell_type": "code",
   "execution_count": 60,
   "id": "blocked-missouri",
   "metadata": {},
   "outputs": [],
   "source": [
    "from pymongo import MongoClient\n",
    "from setting import DB_HOST, DB_PORT, DB_NAME\n",
    "import numpy as np\n",
    "\n",
    "\n",
    "    \n",
    "def get_fps(collection_name, find_opt = {'_id': 0, 'fingerprint': 1, 'coordinate': 1}):\n",
    "    collection = MongoClient(DB_HOST, DB_PORT)[DB_NAME][collection_name]\n",
    "    docs = list(collection.find({}, find_opt))\n",
    "\n",
    "    docs.sort(key=lambda x: x['coordinate'])\n",
    "    \n",
    "    fps = np.array([doc['fingerprint'] for doc in docs])\n",
    "    cordnts = np.array([doc['coordinate'] for doc in docs])\n",
    "    \n",
    "    return fps, cordnts"
   ]
  },
  {
   "cell_type": "code",
   "execution_count": 72,
   "id": "committed-motion",
   "metadata": {
    "scrolled": true
   },
   "outputs": [
    {
     "name": "stdout",
     "output_type": "stream",
     "text": [
      "[[ 7 30]\n",
      " [13 27]\n",
      " [13 26]]\n"
     ]
    },
    {
     "data": {
      "text/plain": [
       "[11, 28]"
      ]
     },
     "execution_count": 72,
     "metadata": {},
     "output_type": "execute_result"
    }
   ],
   "source": [
    "from sklearn.decomposition import PCA\n",
    "from sklearn.neighbors import KNeighborsClassifier\n",
    "from matplotlib import pyplot as plt\n",
    "\n",
    "\n",
    "train_fps, train_cordnts = get_fps(\"radiomap_N1_7F_half(ss4)-v2\")\n",
    "# test_fps, test_cordnts = get_fps(\"##test_points##\")\n",
    "\n",
    "\n",
    "test_fps = np.array([[round(np.mean([-92, -93, -92])), round(np.mean([-83, -82, -77])),\n",
    "           round(np.mean([-71, -77, -71])), round(np.mean([-77, -76, -72]))]])\n",
    "test_cordnts = np.array([13, 27])\n",
    "\n",
    "neigh = KNeighborsClassifier(n_neighbors=3)\n",
    "neigh.fit(fps, crdnts)\n",
    "neigh_dist, neigh_ind = neigh.kneighbors(test_fps)\n",
    "\n",
    "\n",
    "neigh_cordnt = np.array([train_cordnts[i] for i in neigh_ind.flatten()])\n",
    "pred_cordnt = [round(np.mean(neigh_cordnt[:, 0])), round(np.mean(neigh_cordnt[:, 1]))]"
   ]
  },
  {
   "cell_type": "code",
   "execution_count": null,
   "id": "protected-million",
   "metadata": {},
   "outputs": [],
   "source": []
  }
 ],
 "metadata": {
  "kernelspec": {
   "display_name": "PassiveFingerprint",
   "language": "python",
   "name": "passivefingerprint"
  },
  "language_info": {
   "codemirror_mode": {
    "name": "ipython",
    "version": 3
   },
   "file_extension": ".py",
   "mimetype": "text/x-python",
   "name": "python",
   "nbconvert_exporter": "python",
   "pygments_lexer": "ipython3",
   "version": "3.9.1"
  }
 },
 "nbformat": 4,
 "nbformat_minor": 5
}
