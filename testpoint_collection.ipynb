{
 "cells": [
  {
   "cell_type": "code",
   "execution_count": 26,
   "id": "similar-average",
   "metadata": {
    "scrolled": true
   },
   "outputs": [
    {
     "name": "stdout",
     "output_type": "stream",
     "text": [
      ">>>\n",
      "'from' coordinate: (0, 4)\n",
      "'to' coordinate: (0, 30)\n",
      "start_time: 2021-04-24 03:33:36\n",
      "stop_time: 2021-04-24 03:33:41\n",
      "record_count: [0, 0, 0, 0, 0, 0, 0, 0, 0, 0]\n"
     ]
    }
   ],
   "source": [
    "import time\n",
    "import socket\n",
    "from setting import HOST, PORT\n",
    "\n",
    "# (4, 14), (6, 30),(13, 27)\n",
    "from_x, from_y, to_x, to_y = '0', '4', '0', '30'\n",
    "num_collected_fp = 0\n",
    "\n",
    "with socket.socket(socket.AF_INET, socket.SOCK_STREAM) as sock:\n",
    "    try:\n",
    "        print('>>>')\n",
    "        sock.connect((HOST, PORT))\n",
    "        sock.sendall(bytes('SVSTRT' + from_x + ',' + from_y + ',' + to_x + ',' + to_y, 'utf-8'))\n",
    "        start_msg = sock.recv(2000).decode().strip()\n",
    "        print(start_msg)\n",
    "    except Exception as e:\n",
    "        print(e)\n",
    "\n",
    "\n",
    "time.sleep(5)\n",
    "with socket.socket(socket.AF_INET, socket.SOCK_STREAM) as sock:\n",
    "    try:\n",
    "        sock.connect((HOST, PORT))\n",
    "        sock.sendall(bytes('SVSTOP', 'utf-8'))\n",
    "        stop_msg = sock.recv(2000).decode().strip()\n",
    "        print(stop_msg)\n",
    "    except Exception as e:\n",
    "        print(e)\n",
    "        \n",
    "\n",
    "time.sleep(1)\n",
    "with socket.socket(socket.AF_INET, socket.SOCK_STREAM) as sock:\n",
    "    try:\n",
    "        sock.connect((HOST, PORT))\n",
    "        sock.sendall(bytes('SHUTDW\\n', 'utf-8'))\n",
    "    except:\n",
    "        pass"
   ]
  },
  {
   "cell_type": "code",
   "execution_count": 1,
   "id": "further-quality",
   "metadata": {
    "scrolled": true
   },
   "outputs": [
    {
     "name": "stdout",
     "output_type": "stream",
     "text": [
      ">>>\n",
      "Saving start-coordinate: (13, 27)\n",
      "start_time: 2021-04-23 21:01:14\n",
      "stop_time: 2021-04-23 21:01:24\n",
      "record_count: [0, 0, 0, 0, 0, 0, 0, 0, 0, 0]\n",
      "Not enough records\n",
      "num of collected fps: 0\n",
      "<<<\n"
     ]
    }
   ],
   "source": [
    "import socket\n",
    "from setting import HOST, PORT\n",
    "\n",
    "# (4, 14), (6, 30),(13, 27)\n",
    "x, y = '13', '27'\n",
    "test_fp_size = 100\n",
    "\n",
    "collect_time = '10'\n",
    "num_collected_fp = 0\n",
    "\n",
    "while num_collected_fp < test_fp_size:\n",
    "    with socket.socket(socket.AF_INET, socket.SOCK_STREAM) as sock:\n",
    "        try:\n",
    "            print('>>>')\n",
    "            sock.connect((HOST, PORT))\n",
    "            sock.sendall(bytes('SVSTRT' + x + ',' + y + '/' + collect_time, 'utf-8'))\n",
    "            start_msg = sock.recv(2000).decode().strip()\n",
    "            print(start_msg)\n",
    "            stop_msg = sock.recv(2000).decode().strip()\n",
    "            if not 'Not enough' in stop_msg:\n",
    "                num_collected_fp += 1\n",
    "                \n",
    "            print(stop_msg)\n",
    "            print('num of collected fps:',  num_collected_fp)\n",
    "            print('<<<')\n",
    "            break\n",
    "        except Exception as e:\n",
    "            print(e)\n",
    "import time\n",
    "time.sleep(1)\n",
    "with socket.socket(socket.AF_INET, socket.SOCK_STREAM) as sock:\n",
    "    try:\n",
    "        sock.connect((HOST, PORT))\n",
    "        sock.sendall(bytes('SHUTDW\\n', 'utf-8'))\n",
    "    except:\n",
    "        pass"
   ]
  }
 ],
 "metadata": {
  "kernelspec": {
   "display_name": "PassiveFingerprint",
   "language": "python",
   "name": "passivefingerprint"
  },
  "language_info": {
   "codemirror_mode": {
    "name": "ipython",
    "version": 3
   },
   "file_extension": ".py",
   "mimetype": "text/x-python",
   "name": "python",
   "nbconvert_exporter": "python",
   "pygments_lexer": "ipython3",
   "version": "3.9.1"
  }
 },
 "nbformat": 4,
 "nbformat_minor": 5
}
