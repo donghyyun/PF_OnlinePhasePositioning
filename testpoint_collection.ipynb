{
 "cells": [
  {
   "cell_type": "code",
   "execution_count": 2,
   "id": "similar-average",
   "metadata": {
    "scrolled": true
   },
   "outputs": [],
   "source": [
    "import socket\n",
    "from setting import HOST, PORT\n",
    "\n",
    "x, y = '4', '14'\n",
    "test_fp_size = 0\n",
    "\n",
    "collect_time = '10'\n",
    "num_fp = 0\n",
    "\n",
    "while num_fp < test_fp_size:\n",
    "    with socket.socket(socket.AF_INET, socket.SOCK_STREAM) as sock:\n",
    "        try:\n",
    "            print('>>>')\n",
    "            sock.connect((HOST, PORT))\n",
    "            sock.sendall(bytes('SVSTRT' + x + ',' + y + ',' + collect_time, 'utf-8'))\n",
    "            start_msg = sock.recv(100).decode().strip()\n",
    "            print(start_msg)\n",
    "            stop_msg = sock.recv(100).decode().strip()\n",
    "            if not 'Not enough' in stop_msg:\n",
    "                num_fp += 1\n",
    "                \n",
    "            print(stop_msg)\n",
    "            print('num of fps:',  num_fp)\n",
    "            print('<<<')\n",
    "        except:\n",
    "            print(\"Server is not opened yet...\")\n",
    "\n",
    "with socket.socket(socket.AF_INET, socket.SOCK_STREAM) as sock:\n",
    "    try:\n",
    "        sock.connect((HOST, PORT))\n",
    "        sock.sendall(bytes('SHUTDW\\n', 'utf-8'))\n",
    "    except:\n",
    "        pass"
   ]
  }
 ],
 "metadata": {
  "kernelspec": {
   "display_name": "PassiveFingerprint",
   "language": "python",
   "name": "passivefingerprint"
  },
  "language_info": {
   "codemirror_mode": {
    "name": "ipython",
    "version": 3
   },
   "file_extension": ".py",
   "mimetype": "text/x-python",
   "name": "python",
   "nbconvert_exporter": "python",
   "pygments_lexer": "ipython3",
   "version": "3.9.1"
  }
 },
 "nbformat": 4,
 "nbformat_minor": 5
}
